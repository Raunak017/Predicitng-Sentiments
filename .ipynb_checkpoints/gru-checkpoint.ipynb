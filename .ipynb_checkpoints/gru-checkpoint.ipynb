{
 "cells": [
  {
   "cell_type": "code",
   "execution_count": 1,
   "id": "90eea8ad",
   "metadata": {},
   "outputs": [],
   "source": [
    "import numpy as np\n",
    "import pandas as pd\n",
    "import matplotlib.pyplot as plt\n",
    "import tensorflow as tf\n",
    "from tensorflow.keras.preprocessing.text import Tokenizer\n",
    "from tensorflow.keras.utils import to_categorical\n",
    "from tensorflow.keras.preprocessing.sequence import pad_sequences\n"
   ]
  },
  {
   "cell_type": "code",
   "execution_count": 2,
   "id": "3c0c2b4c",
   "metadata": {},
   "outputs": [
    {
     "data": {
      "text/html": [
       "<div>\n",
       "<style scoped>\n",
       "    .dataframe tbody tr th:only-of-type {\n",
       "        vertical-align: middle;\n",
       "    }\n",
       "\n",
       "    .dataframe tbody tr th {\n",
       "        vertical-align: top;\n",
       "    }\n",
       "\n",
       "    .dataframe thead th {\n",
       "        text-align: right;\n",
       "    }\n",
       "</style>\n",
       "<table border=\"1\" class=\"dataframe\">\n",
       "  <thead>\n",
       "    <tr style=\"text-align: right;\">\n",
       "      <th></th>\n",
       "      <th>review</th>\n",
       "      <th>sentiment</th>\n",
       "    </tr>\n",
       "  </thead>\n",
       "  <tbody>\n",
       "    <tr>\n",
       "      <th>0</th>\n",
       "      <td>One of the other reviewers has mentioned that ...</td>\n",
       "      <td>positive</td>\n",
       "    </tr>\n",
       "    <tr>\n",
       "      <th>1</th>\n",
       "      <td>A wonderful little production. &lt;br /&gt;&lt;br /&gt;The...</td>\n",
       "      <td>positive</td>\n",
       "    </tr>\n",
       "    <tr>\n",
       "      <th>2</th>\n",
       "      <td>I thought this was a wonderful way to spend ti...</td>\n",
       "      <td>positive</td>\n",
       "    </tr>\n",
       "    <tr>\n",
       "      <th>3</th>\n",
       "      <td>Basically there's a family where a little boy ...</td>\n",
       "      <td>negative</td>\n",
       "    </tr>\n",
       "    <tr>\n",
       "      <th>4</th>\n",
       "      <td>Petter Mattei's \"Love in the Time of Money\" is...</td>\n",
       "      <td>positive</td>\n",
       "    </tr>\n",
       "    <tr>\n",
       "      <th>...</th>\n",
       "      <td>...</td>\n",
       "      <td>...</td>\n",
       "    </tr>\n",
       "    <tr>\n",
       "      <th>49995</th>\n",
       "      <td>I thought this movie did a down right good job...</td>\n",
       "      <td>positive</td>\n",
       "    </tr>\n",
       "    <tr>\n",
       "      <th>49996</th>\n",
       "      <td>Bad plot, bad dialogue, bad acting, idiotic di...</td>\n",
       "      <td>negative</td>\n",
       "    </tr>\n",
       "    <tr>\n",
       "      <th>49997</th>\n",
       "      <td>I am a Catholic taught in parochial elementary...</td>\n",
       "      <td>negative</td>\n",
       "    </tr>\n",
       "    <tr>\n",
       "      <th>49998</th>\n",
       "      <td>I'm going to have to disagree with the previou...</td>\n",
       "      <td>negative</td>\n",
       "    </tr>\n",
       "    <tr>\n",
       "      <th>49999</th>\n",
       "      <td>No one expects the Star Trek movies to be high...</td>\n",
       "      <td>negative</td>\n",
       "    </tr>\n",
       "  </tbody>\n",
       "</table>\n",
       "<p>50000 rows × 2 columns</p>\n",
       "</div>"
      ],
      "text/plain": [
       "                                                  review sentiment\n",
       "0      One of the other reviewers has mentioned that ...  positive\n",
       "1      A wonderful little production. <br /><br />The...  positive\n",
       "2      I thought this was a wonderful way to spend ti...  positive\n",
       "3      Basically there's a family where a little boy ...  negative\n",
       "4      Petter Mattei's \"Love in the Time of Money\" is...  positive\n",
       "...                                                  ...       ...\n",
       "49995  I thought this movie did a down right good job...  positive\n",
       "49996  Bad plot, bad dialogue, bad acting, idiotic di...  negative\n",
       "49997  I am a Catholic taught in parochial elementary...  negative\n",
       "49998  I'm going to have to disagree with the previou...  negative\n",
       "49999  No one expects the Star Trek movies to be high...  negative\n",
       "\n",
       "[50000 rows x 2 columns]"
      ]
     },
     "execution_count": 2,
     "metadata": {},
     "output_type": "execute_result"
    }
   ],
   "source": [
    "# DATA_SET = './datasets/aclimdb.csv'\n",
    "DATA_SET = './IMDBDataset.csv'\n",
    "df_gru =pd.read_csv(DATA_SET)\n",
    "df_gru"
   ]
  },
  {
   "cell_type": "code",
   "execution_count": 3,
   "id": "ac2c7041",
   "metadata": {},
   "outputs": [],
   "source": [
    "train_set = 45000\n",
    "max_len_text = 2000\n",
    "\n",
    "df_gru['sentiment'] = df_gru['sentiment'].replace('positive', 1)\n",
    "df_gru['sentiment'] = df_gru['sentiment'].replace('negative', 0)"
   ]
  },
  {
   "cell_type": "code",
   "execution_count": 4,
   "id": "8bdcf2ee",
   "metadata": {},
   "outputs": [],
   "source": [
    "tokenizer = Tokenizer(num_words=10000)\n",
    "tokenizer.fit_on_texts(df_gru['review'])\n",
    "vector = tokenizer.texts_to_sequences(df_gru['review'])"
   ]
  },
  {
   "cell_type": "code",
   "execution_count": 5,
   "id": "acf5a93c",
   "metadata": {},
   "outputs": [
    {
     "name": "stderr",
     "output_type": "stream",
     "text": [
      "C:\\Users\\Raunak\\AppData\\Local\\Temp\\ipykernel_13992\\2786445468.py:1: VisibleDeprecationWarning: Creating an ndarray from ragged nested sequences (which is a list-or-tuple of lists-or-tuples-or ndarrays with different lengths or shapes) is deprecated. If you meant to do this, you must specify 'dtype=object' when creating the ndarray\n",
      "  train_data = np.array(vector)[:train_set]\n",
      "C:\\Users\\Raunak\\AppData\\Local\\Temp\\ipykernel_13992\\2786445468.py:3: VisibleDeprecationWarning: Creating an ndarray from ragged nested sequences (which is a list-or-tuple of lists-or-tuples-or ndarrays with different lengths or shapes) is deprecated. If you meant to do this, you must specify 'dtype=object' when creating the ndarray\n",
      "  test_data = np.array(vector)[train_set:]\n"
     ]
    }
   ],
   "source": [
    "train_data = np.array(vector)[:train_set]\n",
    "train_label = (np.array(df_gru['sentiment'])[:train_set])\n",
    "test_data = np.array(vector)[train_set:]\n",
    "test_label = (np.array(df_gru['sentiment'])[train_set:])"
   ]
  },
  {
   "cell_type": "code",
   "execution_count": 6,
   "id": "307f686f",
   "metadata": {},
   "outputs": [],
   "source": [
    "padded_train = pad_sequences(train_data, maxlen=max_len_text)\n",
    "padded_test = pad_sequences(test_data, maxlen=max_len_text)"
   ]
  },
  {
   "cell_type": "code",
   "execution_count": 7,
   "id": "ebb01c73",
   "metadata": {},
   "outputs": [
    {
     "name": "stdout",
     "output_type": "stream",
     "text": [
      "Model: \"sequential\"\n",
      "_________________________________________________________________\n",
      "Layer (type)                 Output Shape              Param #   \n",
      "=================================================================\n",
      "embedding (Embedding)        (None, 2000, 16)          208000    \n",
      "_________________________________________________________________\n",
      "bidirectional (Bidirectional (None, 128)               41472     \n",
      "_________________________________________________________________\n",
      "dense (Dense)                (None, 1)                 129       \n",
      "=================================================================\n",
      "Total params: 249,601\n",
      "Trainable params: 249,601\n",
      "Non-trainable params: 0\n",
      "_________________________________________________________________\n"
     ]
    }
   ],
   "source": [
    "model = tf.keras.Sequential()\n",
    "model.add(tf.keras.layers.Embedding(13000, 16, input_length=max_len_text))\n",
    "model.add(tf.keras.layers.Bidirectional(tf.keras.layers.LSTM(64, dropout=0.2)))\n",
    "model.add(tf.keras.layers.Dense(1, activation='sigmoid'))\n",
    "model.summary()"
   ]
  },
  {
   "cell_type": "code",
   "execution_count": 8,
   "id": "711d1789",
   "metadata": {},
   "outputs": [],
   "source": [
    "model.compile(loss='binary_crossentropy', optimizer='adam', metrics=['accuracy'])"
   ]
  },
  {
   "cell_type": "code",
   "execution_count": 11,
   "id": "f9ee3145",
   "metadata": {},
   "outputs": [
    {
     "data": {
      "text/plain": [
       "array([[   0,    0,    0, ...,  125, 4103,  486],\n",
       "       [   0,    0,    0, ..., 1977,   69,  221],\n",
       "       [   0,    0,    0, ...,   63,   16,  350],\n",
       "       ...,\n",
       "       [   0,    0,    0, ..., 1802, 1355,   22],\n",
       "       [   0,    0,    0, ...,    7,  156,  156],\n",
       "       [   0,    0,    0, ...,    4,    1,  181]])"
      ]
     },
     "execution_count": 11,
     "metadata": {},
     "output_type": "execute_result"
    }
   ],
   "source": [
    "padded_train\n"
   ]
  },
  {
   "cell_type": "code",
   "execution_count": 12,
   "id": "1e5e2b0d",
   "metadata": {},
   "outputs": [
    {
     "name": "stdout",
     "output_type": "stream",
     "text": [
      "Epoch 1/3\n",
      "1407/1407 [==============================] - 6331s 4s/step - loss: 0.5211 - accuracy: 0.7285 - val_loss: 0.3723 - val_accuracy: 0.8450\n",
      "Epoch 2/3\n",
      "1407/1407 [==============================] - 5858s 4s/step - loss: 0.2524 - accuracy: 0.9034 - val_loss: 0.2978 - val_accuracy: 0.8920\n",
      "Epoch 3/3\n",
      "1407/1407 [==============================] - 5003s 4s/step - loss: 0.2117 - accuracy: 0.9199 - val_loss: 0.2704 - val_accuracy: 0.8846\n"
     ]
    }
   ],
   "source": [
    "history = model.fit(padded_train, train_label, epochs=3, validation_data=(padded_test, test_label))"
   ]
  },
  {
   "cell_type": "code",
   "execution_count": null,
   "id": "7fa3d35c",
   "metadata": {},
   "outputs": [],
   "source": [
    "from sklearn.metrics import classification_report\n",
    "\n",
    "predictions = model.predict(padded_test)\n",
    "predictions = predictions.argmax(axis=None)\n",
    "print(classification_report(test_label.argmax(axis= None), predictions))"
   ]
  }
 ],
 "metadata": {
  "kernelspec": {
   "display_name": "Python 3.7 (tensorflow)",
   "language": "python",
   "name": "tensorflow"
  },
  "language_info": {
   "codemirror_mode": {
    "name": "ipython",
    "version": 3
   },
   "file_extension": ".py",
   "mimetype": "text/x-python",
   "name": "python",
   "nbconvert_exporter": "python",
   "pygments_lexer": "ipython3",
   "version": "3.8.13"
  }
 },
 "nbformat": 4,
 "nbformat_minor": 5
}
